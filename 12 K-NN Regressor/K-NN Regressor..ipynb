{
 "cells": [
  {
   "cell_type": "markdown",
   "id": "5f8f69c1",
   "metadata": {},
   "source": [
    "# K-NN Regressor."
   ]
  },
  {
   "cell_type": "code",
   "execution_count": null,
   "id": "3e74fc69",
   "metadata": {},
   "outputs": [],
   "source": []
  },
  {
   "cell_type": "markdown",
   "id": "62607b21",
   "metadata": {},
   "source": [
    "## Importing the libraries."
   ]
  },
  {
   "cell_type": "code",
   "execution_count": 2,
   "id": "6b2d5eb2",
   "metadata": {},
   "outputs": [],
   "source": [
    "import numpy as np\n",
    "import pandas as pd\n",
    "import matplotlib.pyplot as plt"
   ]
  },
  {
   "cell_type": "markdown",
   "id": "0288d77b",
   "metadata": {},
   "source": [
    "## Importing the Dataset."
   ]
  },
  {
   "cell_type": "code",
   "execution_count": 4,
   "id": "56806390",
   "metadata": {},
   "outputs": [
    {
     "data": {
      "text/html": [
       "<div>\n",
       "<style scoped>\n",
       "    .dataframe tbody tr th:only-of-type {\n",
       "        vertical-align: middle;\n",
       "    }\n",
       "\n",
       "    .dataframe tbody tr th {\n",
       "        vertical-align: top;\n",
       "    }\n",
       "\n",
       "    .dataframe thead th {\n",
       "        text-align: right;\n",
       "    }\n",
       "</style>\n",
       "<table border=\"1\" class=\"dataframe\">\n",
       "  <thead>\n",
       "    <tr style=\"text-align: right;\">\n",
       "      <th></th>\n",
       "      <th>Cement</th>\n",
       "      <th>Slag</th>\n",
       "      <th>Fly ash</th>\n",
       "      <th>Water</th>\n",
       "      <th>SP</th>\n",
       "      <th>Coarse Aggr.</th>\n",
       "      <th>Fine Aggr.</th>\n",
       "      <th>SLUMP(cm)</th>\n",
       "      <th>FLOW(cm)</th>\n",
       "      <th>Compressive Strength (28-day)(Mpa)</th>\n",
       "    </tr>\n",
       "  </thead>\n",
       "  <tbody>\n",
       "    <tr>\n",
       "      <th>0</th>\n",
       "      <td>273.0</td>\n",
       "      <td>82.0</td>\n",
       "      <td>105.0</td>\n",
       "      <td>210.0</td>\n",
       "      <td>9.0</td>\n",
       "      <td>904.0</td>\n",
       "      <td>680.0</td>\n",
       "      <td>23.0</td>\n",
       "      <td>62.0</td>\n",
       "      <td>34.99</td>\n",
       "    </tr>\n",
       "    <tr>\n",
       "      <th>1</th>\n",
       "      <td>163.0</td>\n",
       "      <td>149.0</td>\n",
       "      <td>191.0</td>\n",
       "      <td>180.0</td>\n",
       "      <td>12.0</td>\n",
       "      <td>843.0</td>\n",
       "      <td>746.0</td>\n",
       "      <td>0.0</td>\n",
       "      <td>20.0</td>\n",
       "      <td>41.14</td>\n",
       "    </tr>\n",
       "    <tr>\n",
       "      <th>2</th>\n",
       "      <td>162.0</td>\n",
       "      <td>148.0</td>\n",
       "      <td>191.0</td>\n",
       "      <td>179.0</td>\n",
       "      <td>16.0</td>\n",
       "      <td>840.0</td>\n",
       "      <td>743.0</td>\n",
       "      <td>1.0</td>\n",
       "      <td>20.0</td>\n",
       "      <td>41.81</td>\n",
       "    </tr>\n",
       "    <tr>\n",
       "      <th>3</th>\n",
       "      <td>162.0</td>\n",
       "      <td>148.0</td>\n",
       "      <td>190.0</td>\n",
       "      <td>179.0</td>\n",
       "      <td>19.0</td>\n",
       "      <td>838.0</td>\n",
       "      <td>741.0</td>\n",
       "      <td>3.0</td>\n",
       "      <td>21.5</td>\n",
       "      <td>42.08</td>\n",
       "    </tr>\n",
       "    <tr>\n",
       "      <th>4</th>\n",
       "      <td>154.0</td>\n",
       "      <td>112.0</td>\n",
       "      <td>144.0</td>\n",
       "      <td>220.0</td>\n",
       "      <td>10.0</td>\n",
       "      <td>923.0</td>\n",
       "      <td>658.0</td>\n",
       "      <td>20.0</td>\n",
       "      <td>64.0</td>\n",
       "      <td>26.82</td>\n",
       "    </tr>\n",
       "    <tr>\n",
       "      <th>...</th>\n",
       "      <td>...</td>\n",
       "      <td>...</td>\n",
       "      <td>...</td>\n",
       "      <td>...</td>\n",
       "      <td>...</td>\n",
       "      <td>...</td>\n",
       "      <td>...</td>\n",
       "      <td>...</td>\n",
       "      <td>...</td>\n",
       "      <td>...</td>\n",
       "    </tr>\n",
       "    <tr>\n",
       "      <th>98</th>\n",
       "      <td>248.3</td>\n",
       "      <td>101.0</td>\n",
       "      <td>239.1</td>\n",
       "      <td>168.9</td>\n",
       "      <td>7.7</td>\n",
       "      <td>954.2</td>\n",
       "      <td>640.6</td>\n",
       "      <td>0.0</td>\n",
       "      <td>20.0</td>\n",
       "      <td>49.97</td>\n",
       "    </tr>\n",
       "    <tr>\n",
       "      <th>99</th>\n",
       "      <td>248.0</td>\n",
       "      <td>101.0</td>\n",
       "      <td>239.9</td>\n",
       "      <td>169.1</td>\n",
       "      <td>7.7</td>\n",
       "      <td>949.9</td>\n",
       "      <td>644.1</td>\n",
       "      <td>2.0</td>\n",
       "      <td>20.0</td>\n",
       "      <td>50.23</td>\n",
       "    </tr>\n",
       "    <tr>\n",
       "      <th>100</th>\n",
       "      <td>258.8</td>\n",
       "      <td>88.0</td>\n",
       "      <td>239.6</td>\n",
       "      <td>175.3</td>\n",
       "      <td>7.6</td>\n",
       "      <td>938.9</td>\n",
       "      <td>646.0</td>\n",
       "      <td>0.0</td>\n",
       "      <td>20.0</td>\n",
       "      <td>50.50</td>\n",
       "    </tr>\n",
       "    <tr>\n",
       "      <th>101</th>\n",
       "      <td>297.1</td>\n",
       "      <td>40.9</td>\n",
       "      <td>239.9</td>\n",
       "      <td>194.0</td>\n",
       "      <td>7.5</td>\n",
       "      <td>908.9</td>\n",
       "      <td>651.8</td>\n",
       "      <td>27.5</td>\n",
       "      <td>67.0</td>\n",
       "      <td>49.17</td>\n",
       "    </tr>\n",
       "    <tr>\n",
       "      <th>102</th>\n",
       "      <td>348.7</td>\n",
       "      <td>0.1</td>\n",
       "      <td>223.1</td>\n",
       "      <td>208.5</td>\n",
       "      <td>9.6</td>\n",
       "      <td>786.2</td>\n",
       "      <td>758.1</td>\n",
       "      <td>29.0</td>\n",
       "      <td>78.0</td>\n",
       "      <td>48.70</td>\n",
       "    </tr>\n",
       "  </tbody>\n",
       "</table>\n",
       "<p>103 rows × 10 columns</p>\n",
       "</div>"
      ],
      "text/plain": [
       "     Cement   Slag  Fly ash  Water    SP  Coarse Aggr.  Fine Aggr.  SLUMP(cm)  \\\n",
       "0     273.0   82.0    105.0  210.0   9.0         904.0       680.0       23.0   \n",
       "1     163.0  149.0    191.0  180.0  12.0         843.0       746.0        0.0   \n",
       "2     162.0  148.0    191.0  179.0  16.0         840.0       743.0        1.0   \n",
       "3     162.0  148.0    190.0  179.0  19.0         838.0       741.0        3.0   \n",
       "4     154.0  112.0    144.0  220.0  10.0         923.0       658.0       20.0   \n",
       "..      ...    ...      ...    ...   ...           ...         ...        ...   \n",
       "98    248.3  101.0    239.1  168.9   7.7         954.2       640.6        0.0   \n",
       "99    248.0  101.0    239.9  169.1   7.7         949.9       644.1        2.0   \n",
       "100   258.8   88.0    239.6  175.3   7.6         938.9       646.0        0.0   \n",
       "101   297.1   40.9    239.9  194.0   7.5         908.9       651.8       27.5   \n",
       "102   348.7    0.1    223.1  208.5   9.6         786.2       758.1       29.0   \n",
       "\n",
       "     FLOW(cm)  Compressive Strength (28-day)(Mpa)  \n",
       "0        62.0                               34.99  \n",
       "1        20.0                               41.14  \n",
       "2        20.0                               41.81  \n",
       "3        21.5                               42.08  \n",
       "4        64.0                               26.82  \n",
       "..        ...                                 ...  \n",
       "98       20.0                               49.97  \n",
       "99       20.0                               50.23  \n",
       "100      20.0                               50.50  \n",
       "101      67.0                               49.17  \n",
       "102      78.0                               48.70  \n",
       "\n",
       "[103 rows x 10 columns]"
      ]
     },
     "execution_count": 4,
     "metadata": {},
     "output_type": "execute_result"
    }
   ],
   "source": [
    "df = pd.read_csv('Slump.csv',sep= '\\t')\n",
    "df"
   ]
  },
  {
   "cell_type": "markdown",
   "id": "86b1bcae",
   "metadata": {},
   "source": [
    "## Performing EDA."
   ]
  },
  {
   "cell_type": "code",
   "execution_count": 5,
   "id": "b485815c",
   "metadata": {},
   "outputs": [
    {
     "data": {
      "text/plain": [
       "(103, 10)"
      ]
     },
     "execution_count": 5,
     "metadata": {},
     "output_type": "execute_result"
    }
   ],
   "source": [
    "df.shape"
   ]
  },
  {
   "cell_type": "code",
   "execution_count": 6,
   "id": "31f0c6e0",
   "metadata": {},
   "outputs": [
    {
     "data": {
      "text/html": [
       "<div>\n",
       "<style scoped>\n",
       "    .dataframe tbody tr th:only-of-type {\n",
       "        vertical-align: middle;\n",
       "    }\n",
       "\n",
       "    .dataframe tbody tr th {\n",
       "        vertical-align: top;\n",
       "    }\n",
       "\n",
       "    .dataframe thead th {\n",
       "        text-align: right;\n",
       "    }\n",
       "</style>\n",
       "<table border=\"1\" class=\"dataframe\">\n",
       "  <thead>\n",
       "    <tr style=\"text-align: right;\">\n",
       "      <th></th>\n",
       "      <th>Cement</th>\n",
       "      <th>Slag</th>\n",
       "      <th>Fly ash</th>\n",
       "      <th>Water</th>\n",
       "      <th>SP</th>\n",
       "      <th>Coarse Aggr.</th>\n",
       "      <th>Fine Aggr.</th>\n",
       "      <th>SLUMP(cm)</th>\n",
       "      <th>FLOW(cm)</th>\n",
       "      <th>Compressive Strength (28-day)(Mpa)</th>\n",
       "    </tr>\n",
       "  </thead>\n",
       "  <tbody>\n",
       "    <tr>\n",
       "      <th>0</th>\n",
       "      <td>273.0</td>\n",
       "      <td>82.0</td>\n",
       "      <td>105.0</td>\n",
       "      <td>210.0</td>\n",
       "      <td>9.0</td>\n",
       "      <td>904.0</td>\n",
       "      <td>680.0</td>\n",
       "      <td>23.0</td>\n",
       "      <td>62.0</td>\n",
       "      <td>34.99</td>\n",
       "    </tr>\n",
       "    <tr>\n",
       "      <th>1</th>\n",
       "      <td>163.0</td>\n",
       "      <td>149.0</td>\n",
       "      <td>191.0</td>\n",
       "      <td>180.0</td>\n",
       "      <td>12.0</td>\n",
       "      <td>843.0</td>\n",
       "      <td>746.0</td>\n",
       "      <td>0.0</td>\n",
       "      <td>20.0</td>\n",
       "      <td>41.14</td>\n",
       "    </tr>\n",
       "    <tr>\n",
       "      <th>2</th>\n",
       "      <td>162.0</td>\n",
       "      <td>148.0</td>\n",
       "      <td>191.0</td>\n",
       "      <td>179.0</td>\n",
       "      <td>16.0</td>\n",
       "      <td>840.0</td>\n",
       "      <td>743.0</td>\n",
       "      <td>1.0</td>\n",
       "      <td>20.0</td>\n",
       "      <td>41.81</td>\n",
       "    </tr>\n",
       "    <tr>\n",
       "      <th>3</th>\n",
       "      <td>162.0</td>\n",
       "      <td>148.0</td>\n",
       "      <td>190.0</td>\n",
       "      <td>179.0</td>\n",
       "      <td>19.0</td>\n",
       "      <td>838.0</td>\n",
       "      <td>741.0</td>\n",
       "      <td>3.0</td>\n",
       "      <td>21.5</td>\n",
       "      <td>42.08</td>\n",
       "    </tr>\n",
       "    <tr>\n",
       "      <th>4</th>\n",
       "      <td>154.0</td>\n",
       "      <td>112.0</td>\n",
       "      <td>144.0</td>\n",
       "      <td>220.0</td>\n",
       "      <td>10.0</td>\n",
       "      <td>923.0</td>\n",
       "      <td>658.0</td>\n",
       "      <td>20.0</td>\n",
       "      <td>64.0</td>\n",
       "      <td>26.82</td>\n",
       "    </tr>\n",
       "  </tbody>\n",
       "</table>\n",
       "</div>"
      ],
      "text/plain": [
       "   Cement   Slag  Fly ash  Water    SP  Coarse Aggr.  Fine Aggr.  SLUMP(cm)  \\\n",
       "0   273.0   82.0    105.0  210.0   9.0         904.0       680.0       23.0   \n",
       "1   163.0  149.0    191.0  180.0  12.0         843.0       746.0        0.0   \n",
       "2   162.0  148.0    191.0  179.0  16.0         840.0       743.0        1.0   \n",
       "3   162.0  148.0    190.0  179.0  19.0         838.0       741.0        3.0   \n",
       "4   154.0  112.0    144.0  220.0  10.0         923.0       658.0       20.0   \n",
       "\n",
       "   FLOW(cm)  Compressive Strength (28-day)(Mpa)  \n",
       "0      62.0                               34.99  \n",
       "1      20.0                               41.14  \n",
       "2      20.0                               41.81  \n",
       "3      21.5                               42.08  \n",
       "4      64.0                               26.82  "
      ]
     },
     "execution_count": 6,
     "metadata": {},
     "output_type": "execute_result"
    }
   ],
   "source": [
    "df.head()"
   ]
  },
  {
   "cell_type": "code",
   "execution_count": 7,
   "id": "94929fc5",
   "metadata": {},
   "outputs": [
    {
     "data": {
      "text/plain": [
       "Cement                                0\n",
       "Slag                                  0\n",
       "Fly ash                               0\n",
       "Water                                 0\n",
       "SP                                    0\n",
       "Coarse Aggr.                          0\n",
       "Fine Aggr.                            0\n",
       "SLUMP(cm)                             0\n",
       "FLOW(cm)                              0\n",
       "Compressive Strength (28-day)(Mpa)    0\n",
       "dtype: int64"
      ]
     },
     "execution_count": 7,
     "metadata": {},
     "output_type": "execute_result"
    }
   ],
   "source": [
    "#check for missing values\n",
    "df.isnull().sum()"
   ]
  },
  {
   "cell_type": "code",
   "execution_count": 8,
   "id": "0261f3c2",
   "metadata": {},
   "outputs": [
    {
     "data": {
      "text/plain": [
       "Cement                                float64\n",
       "Slag                                  float64\n",
       "Fly ash                               float64\n",
       "Water                                 float64\n",
       "SP                                    float64\n",
       "Coarse Aggr.                          float64\n",
       "Fine Aggr.                            float64\n",
       "SLUMP(cm)                             float64\n",
       "FLOW(cm)                              float64\n",
       "Compressive Strength (28-day)(Mpa)    float64\n",
       "dtype: object"
      ]
     },
     "execution_count": 8,
     "metadata": {},
     "output_type": "execute_result"
    }
   ],
   "source": [
    "#check for categorical variables\n",
    "df.dtypes"
   ]
  },
  {
   "cell_type": "code",
   "execution_count": 9,
   "id": "d15ab765",
   "metadata": {},
   "outputs": [
    {
     "data": {
      "image/png": "[encoded data removed]",
      "text/plain": [
       "<Figure size 1080x1800 with 10 Axes>"
      ]
     },
     "metadata": {
      "needs_background": "light"
     },
     "output_type": "display_data"
    }
   ],
   "source": [
    "#checking for outliers\n",
    "plt.figure(figsize = (15,25))\n",
    "count = 1\n",
    "for col in df:\n",
    "    plt.subplot(5,2,count)\n",
    "    plt.boxplot(df[col])\n",
    "    plt.title(col)\n",
    "    count +=1\n",
    "        \n",
    "plt.show()"
   ]
  },
  {
   "cell_type": "code",
   "execution_count": 10,
   "id": "c4937733",
   "metadata": {},
   "outputs": [
    {
     "data": {
      "text/html": [
       "<div>\n",
       "<style scoped>\n",
       "    .dataframe tbody tr th:only-of-type {\n",
       "        vertical-align: middle;\n",
       "    }\n",
       "\n",
       "    .dataframe tbody tr th {\n",
       "        vertical-align: top;\n",
       "    }\n",
       "\n",
       "    .dataframe thead th {\n",
       "        text-align: right;\n",
       "    }\n",
       "</style>\n",
       "<table border=\"1\" class=\"dataframe\">\n",
       "  <thead>\n",
       "    <tr style=\"text-align: right;\">\n",
       "      <th></th>\n",
       "      <th>Cement</th>\n",
       "      <th>Slag</th>\n",
       "      <th>Fly ash</th>\n",
       "      <th>Water</th>\n",
       "      <th>SP</th>\n",
       "      <th>Coarse Aggr.</th>\n",
       "      <th>Fine Aggr.</th>\n",
       "      <th>SLUMP(cm)</th>\n",
       "      <th>FLOW(cm)</th>\n",
       "      <th>Compressive Strength (28-day)(Mpa)</th>\n",
       "    </tr>\n",
       "  </thead>\n",
       "  <tbody>\n",
       "    <tr>\n",
       "      <th>Cement</th>\n",
       "      <td>1.000000</td>\n",
       "      <td>-0.243553</td>\n",
       "      <td>-0.486535</td>\n",
       "      <td>0.221091</td>\n",
       "      <td>-0.106387</td>\n",
       "      <td>-0.309857</td>\n",
       "      <td>0.056959</td>\n",
       "      <td>0.145913</td>\n",
       "      <td>0.186461</td>\n",
       "      <td>0.445656</td>\n",
       "    </tr>\n",
       "    <tr>\n",
       "      <th>Slag</th>\n",
       "      <td>-0.243553</td>\n",
       "      <td>1.000000</td>\n",
       "      <td>-0.322619</td>\n",
       "      <td>-0.026775</td>\n",
       "      <td>0.306504</td>\n",
       "      <td>-0.223792</td>\n",
       "      <td>-0.183522</td>\n",
       "      <td>-0.284037</td>\n",
       "      <td>-0.327231</td>\n",
       "      <td>-0.331522</td>\n",
       "    </tr>\n",
       "    <tr>\n",
       "      <th>Fly ash</th>\n",
       "      <td>-0.486535</td>\n",
       "      <td>-0.322619</td>\n",
       "      <td>1.000000</td>\n",
       "      <td>-0.241321</td>\n",
       "      <td>-0.143508</td>\n",
       "      <td>0.172620</td>\n",
       "      <td>-0.282854</td>\n",
       "      <td>-0.118621</td>\n",
       "      <td>-0.055423</td>\n",
       "      <td>0.444380</td>\n",
       "    </tr>\n",
       "    <tr>\n",
       "      <th>Water</th>\n",
       "      <td>0.221091</td>\n",
       "      <td>-0.026775</td>\n",
       "      <td>-0.241321</td>\n",
       "      <td>1.000000</td>\n",
       "      <td>-0.155456</td>\n",
       "      <td>-0.602201</td>\n",
       "      <td>0.114591</td>\n",
       "      <td>0.466568</td>\n",
       "      <td>0.632026</td>\n",
       "      <td>-0.254320</td>\n",
       "    </tr>\n",
       "    <tr>\n",
       "      <th>SP</th>\n",
       "      <td>-0.106387</td>\n",
       "      <td>0.306504</td>\n",
       "      <td>-0.143508</td>\n",
       "      <td>-0.155456</td>\n",
       "      <td>1.000000</td>\n",
       "      <td>-0.104159</td>\n",
       "      <td>0.058290</td>\n",
       "      <td>-0.212902</td>\n",
       "      <td>-0.176314</td>\n",
       "      <td>-0.037909</td>\n",
       "    </tr>\n",
       "    <tr>\n",
       "      <th>Coarse Aggr.</th>\n",
       "      <td>-0.309857</td>\n",
       "      <td>-0.223792</td>\n",
       "      <td>0.172620</td>\n",
       "      <td>-0.602201</td>\n",
       "      <td>-0.104159</td>\n",
       "      <td>1.000000</td>\n",
       "      <td>-0.488537</td>\n",
       "      <td>-0.188157</td>\n",
       "      <td>-0.325787</td>\n",
       "      <td>-0.160610</td>\n",
       "    </tr>\n",
       "    <tr>\n",
       "      <th>Fine Aggr.</th>\n",
       "      <td>0.056959</td>\n",
       "      <td>-0.183522</td>\n",
       "      <td>-0.282854</td>\n",
       "      <td>0.114591</td>\n",
       "      <td>0.058290</td>\n",
       "      <td>-0.488537</td>\n",
       "      <td>1.000000</td>\n",
       "      <td>0.202272</td>\n",
       "      <td>0.190370</td>\n",
       "      <td>-0.154532</td>\n",
       "    </tr>\n",
       "    <tr>\n",
       "      <th>SLUMP(cm)</th>\n",
       "      <td>0.145913</td>\n",
       "      <td>-0.284037</td>\n",
       "      <td>-0.118621</td>\n",
       "      <td>0.466568</td>\n",
       "      <td>-0.212902</td>\n",
       "      <td>-0.188157</td>\n",
       "      <td>0.202272</td>\n",
       "      <td>1.000000</td>\n",
       "      <td>0.906135</td>\n",
       "      <td>-0.223499</td>\n",
       "    </tr>\n",
       "    <tr>\n",
       "      <th>FLOW(cm)</th>\n",
       "      <td>0.186461</td>\n",
       "      <td>-0.327231</td>\n",
       "      <td>-0.055423</td>\n",
       "      <td>0.632026</td>\n",
       "      <td>-0.176314</td>\n",
       "      <td>-0.325787</td>\n",
       "      <td>0.190370</td>\n",
       "      <td>0.906135</td>\n",
       "      <td>1.000000</td>\n",
       "      <td>-0.124189</td>\n",
       "    </tr>\n",
       "    <tr>\n",
       "      <th>Compressive Strength (28-day)(Mpa)</th>\n",
       "      <td>0.445656</td>\n",
       "      <td>-0.331522</td>\n",
       "      <td>0.444380</td>\n",
       "      <td>-0.254320</td>\n",
       "      <td>-0.037909</td>\n",
       "      <td>-0.160610</td>\n",
       "      <td>-0.154532</td>\n",
       "      <td>-0.223499</td>\n",
       "      <td>-0.124189</td>\n",
       "      <td>1.000000</td>\n",
       "    </tr>\n",
       "  </tbody>\n",
       "</table>\n",
       "</div>"
      ],
      "text/plain": [
       "                                      Cement      Slag   Fly ash     Water  \\\n",
       "Cement                              1.000000 -0.243553 -0.486535  0.221091   \n",
       "Slag                               -0.243553  1.000000 -0.322619 -0.026775   \n",
       "Fly ash                            -0.486535 -0.322619  1.000000 -0.241321   \n",
       "Water                               0.221091 -0.026775 -0.241321  1.000000   \n",
       "SP                                 -0.106387  0.306504 -0.143508 -0.155456   \n",
       "Coarse Aggr.                       -0.309857 -0.223792  0.172620 -0.602201   \n",
       "Fine Aggr.                          0.056959 -0.183522 -0.282854  0.114591   \n",
       "SLUMP(cm)                           0.145913 -0.284037 -0.118621  0.466568   \n",
       "FLOW(cm)                            0.186461 -0.327231 -0.055423  0.632026   \n",
       "Compressive Strength (28-day)(Mpa)  0.445656 -0.331522  0.444380 -0.254320   \n",
       "\n",
       "                                          SP  Coarse Aggr.  Fine Aggr.  \\\n",
       "Cement                             -0.106387     -0.309857    0.056959   \n",
       "Slag                                0.306504     -0.223792   -0.183522   \n",
       "Fly ash                            -0.143508      0.172620   -0.282854   \n",
       "Water                              -0.155456     -0.602201    0.114591   \n",
       "SP                                  1.000000     -0.104159    0.058290   \n",
       "Coarse Aggr.                       -0.104159      1.000000   -0.488537   \n",
       "Fine Aggr.                          0.058290     -0.488537    1.000000   \n",
       "SLUMP(cm)                          -0.212902     -0.188157    0.202272   \n",
       "FLOW(cm)                           -0.176314     -0.325787    0.190370   \n",
       "Compressive Strength (28-day)(Mpa) -0.037909     -0.160610   -0.154532   \n",
       "\n",
       "                                    SLUMP(cm)  FLOW(cm)  \\\n",
       "Cement                               0.145913  0.186461   \n",
       "Slag                                -0.284037 -0.327231   \n",
       "Fly ash                             -0.118621 -0.055423   \n",
       "Water                                0.466568  0.632026   \n",
       "SP                                  -0.212902 -0.176314   \n",
       "Coarse Aggr.                        -0.188157 -0.325787   \n",
       "Fine Aggr.                           0.202272  0.190370   \n",
       "SLUMP(cm)                            1.000000  0.906135   \n",
       "FLOW(cm)                             0.906135  1.000000   \n",
       "Compressive Strength (28-day)(Mpa)  -0.223499 -0.124189   \n",
       "\n",
       "                                    Compressive Strength (28-day)(Mpa)  \n",
       "Cement                                                        0.445656  \n",
       "Slag                                                         -0.331522  \n",
       "Fly ash                                                       0.444380  \n",
       "Water                                                        -0.254320  \n",
       "SP                                                           -0.037909  \n",
       "Coarse Aggr.                                                 -0.160610  \n",
       "Fine Aggr.                                                   -0.154532  \n",
       "SLUMP(cm)                                                    -0.223499  \n",
       "FLOW(cm)                                                     -0.124189  \n",
       "Compressive Strength (28-day)(Mpa)                            1.000000  "
      ]
     },
     "execution_count": 10,
     "metadata": {},
     "output_type": "execute_result"
    }
   ],
   "source": [
    "#checking the correlation\n",
    "df.corr()"
   ]
  },
  {
   "cell_type": "code",
   "execution_count": 12,
   "id": "34c94ded",
   "metadata": {},
   "outputs": [],
   "source": [
    "#split X and y\n",
    "X = df.iloc[:,:-1].values\n",
    "y = df.iloc[:,-1].values"
   ]
  },
  {
   "cell_type": "code",
   "execution_count": 13,
   "id": "fc2d0448",
   "metadata": {},
   "outputs": [
    {
     "data": {
      "text/plain": [
       "(103, 9)"
      ]
     },
     "execution_count": 13,
     "metadata": {},
     "output_type": "execute_result"
    }
   ],
   "source": [
    "X.shape"
   ]
  },
  {
   "cell_type": "code",
   "execution_count": 14,
   "id": "eec1ec6b",
   "metadata": {},
   "outputs": [
    {
     "data": {
      "text/plain": [
       "(103,)"
      ]
     },
     "execution_count": 14,
     "metadata": {},
     "output_type": "execute_result"
    }
   ],
   "source": [
    "y.shape"
   ]
  },
  {
   "cell_type": "code",
   "execution_count": 15,
   "id": "45daf0e1",
   "metadata": {},
   "outputs": [],
   "source": [
    "y = y.reshape(-1,1)"
   ]
  },
  {
   "cell_type": "markdown",
   "id": "86f061a3",
   "metadata": {},
   "source": [
    "## Feature Scaling\n",
    "\n",
    "Whenever we are dealing with KNN algorithm, we should do the feature scaling."
   ]
  },
  {
   "cell_type": "code",
   "execution_count": 16,
   "id": "334ae6a0",
   "metadata": {},
   "outputs": [],
   "source": [
    "from sklearn.preprocessing import StandardScaler\n",
    "sc = StandardScaler()\n",
    "X = sc.fit_transform(X)"
   ]
  },
  {
   "cell_type": "code",
   "execution_count": 17,
   "id": "4870f4c0",
   "metadata": {},
   "outputs": [],
   "source": [
    "#splitting into train and test\n",
    "from sklearn.model_selection import train_test_split\n",
    "X_train,X_test,y_train,y_test = train_test_split(X,y,test_size = 0.2,random_state = 0)"
   ]
  },
  {
   "cell_type": "code",
   "execution_count": 18,
   "id": "108a164d",
   "metadata": {},
   "outputs": [],
   "source": [
    "#importing the model and metrics\n",
    "from sklearn.neighbors import KNeighborsRegressor\n",
    "from sklearn.metrics import mean_squared_error,r2_score"
   ]
  },
  {
   "cell_type": "markdown",
   "id": "f1232a02",
   "metadata": {},
   "source": [
    "## Selecting the 'k' value such our mean square error is minimum."
   ]
  },
  {
   "cell_type": "code",
   "execution_count": 19,
   "id": "024b119a",
   "metadata": {},
   "outputs": [],
   "source": [
    "mse = []\n",
    "r2 = []\n",
    "for i in range(1,10):\n",
    "    model = KNeighborsRegressor(n_neighbors=i)\n",
    "    model.fit(X_train,y_train)\n",
    "    y_pred = model.predict(X_test)\n",
    "    mse_i = mean_squared_error(y_test,y_pred)\n",
    "    mse.append(mse_i)\n",
    "    r2_i = r2_score(y_test,y_pred)\n",
    "    r2.append(r2_i)\n",
    "#     print('i = {}, mse = {} , r2 = {}'.format(i,mse_i,r2_i))"
   ]
  },
  {
   "cell_type": "markdown",
   "id": "02dfe555",
   "metadata": {},
   "source": [
    "## MSE v/s K-value."
   ]
  },
  {
   "cell_type": "code",
   "execution_count": 20,
   "id": "918c7089",
   "metadata": {},
   "outputs": [
    {
     "data": {
      "image/png": "[encoded data removed]",
      "text/plain": [
       "<Figure size 576x576 with 1 Axes>"
      ]
     },
     "metadata": {
      "needs_background": "light"
     },
     "output_type": "display_data"
    }
   ],
   "source": [
    "plt.figure(figsize = (8,8))\n",
    "plt.plot(np.arange(1,10),mse,'r')\n",
    "plt.xlabel('k-value')\n",
    "plt.ylabel('mean-squared-error')\n",
    "plt.title('Selecting k-value')\n",
    "plt.show()"
   ]
  },
  {
   "cell_type": "markdown",
   "id": "a675bfc5",
   "metadata": {},
   "source": [
    "As we can clearly see from the graph, for k =2 we have minimum MSE."
   ]
  },
  {
   "cell_type": "code",
   "execution_count": 23,
   "id": "ff9bac0d",
   "metadata": {},
   "outputs": [],
   "source": [
    "model = KNeighborsRegressor(n_neighbors=2)\n",
    "model.fit(X_train,y_train)\n",
    "y_pred = model.predict(X_test)"
   ]
  },
  {
   "cell_type": "markdown",
   "id": "67edde7e",
   "metadata": {},
   "source": [
    "## Model Evaluation."
   ]
  },
  {
   "cell_type": "code",
   "execution_count": 24,
   "id": "dde4e4e5",
   "metadata": {},
   "outputs": [
    {
     "data": {
      "text/plain": [
       "0.8028411170170824"
      ]
     },
     "execution_count": 24,
     "metadata": {},
     "output_type": "execute_result"
    }
   ],
   "source": [
    "r2_score(y_test,y_pred)"
   ]
  },
  {
   "cell_type": "code",
   "execution_count": null,
   "id": "abec84a4",
   "metadata": {},
   "outputs": [],
   "source": []
  },
  {
   "cell_type": "code",
   "execution_count": null,
   "id": "b3ab34e0",
   "metadata": {},
   "outputs": [],
   "source": []
  },
  {
   "cell_type": "code",
   "execution_count": null,
   "id": "905d3661",
   "metadata": {},
   "outputs": [],
   "source": []
  },
  {
   "cell_type": "code",
   "execution_count": null,
   "id": "f99bec95",
   "metadata": {},
   "outputs": [],
   "source": []
  },
  {
   "cell_type": "code",
   "execution_count": null,
   "id": "ae322f37",
   "metadata": {},
   "outputs": [],
   "source": []
  },
  {
   "cell_type": "code",
   "execution_count": null,
   "id": "fd85e23c",
   "metadata": {},
   "outputs": [],
   "source": []
  },
  {
   "cell_type": "code",
   "execution_count": null,
   "id": "b5e4350d",
   "metadata": {},
   "outputs": [],
   "source": []
  },
  {
   "cell_type": "code",
   "execution_count": null,
   "id": "af7e0f70",
   "metadata": {},
   "outputs": [],
   "source": []
  },
  {
   "cell_type": "code",
   "execution_count": null,
   "id": "d89eeb97",
   "metadata": {},
   "outputs": [],
   "source": []
  },
  {
   "cell_type": "code",
   "execution_count": null,
   "id": "5acfa25d",
   "metadata": {},
   "outputs": [],
   "source": []
  },
  {
   "cell_type": "code",
   "execution_count": null,
   "id": "9a49c29b",
   "metadata": {},
   "outputs": [],
   "source": []
  },
  {
   "cell_type": "code",
   "execution_count": null,
   "id": "80db13ba",
   "metadata": {},
   "outputs": [],
   "source": []
  },
  {
   "cell_type": "code",
   "execution_count": null,
   "id": "918cc32d",
   "metadata": {},
   "outputs": [],
   "source": []
  },
  {
   "cell_type": "code",
   "execution_count": null,
   "id": "d60f838c",
   "metadata": {},
   "outputs": [],
   "source": []
  },
  {
   "cell_type": "code",
   "execution_count": null,
   "id": "8905782d",
   "metadata": {},
   "outputs": [],
   "source": []
  },
  {
   "cell_type": "code",
   "execution_count": null,
   "id": "5e34aa7c",
   "metadata": {},
   "outputs": [],
   "source": []
  }
 ],
 "metadata": {
  "kernelspec": {
   "display_name": "Python 3",
   "language": "python",
   "name": "python3"
  },
  "language_info": {
   "codemirror_mode": {
    "name": "ipython",
    "version": 3
   },
   "file_extension": ".py",
   "mimetype": "text/x-python",
   "name": "python",
   "nbconvert_exporter": "python",
   "pygments_lexer": "ipython3",
   "version": "3.8.8"
  }
 },
 "nbformat": 4,
 "nbformat_minor": 5
}
